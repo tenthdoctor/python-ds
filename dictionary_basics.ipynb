{
 "cells": [
  {
   "cell_type": "markdown",
   "metadata": {},
   "source": [
    "### dict"
   ]
  },
  {
   "cell_type": "markdown",
   "metadata": {},
   "source": [
    "- lookup-table\n",
    "- map\n",
    "- content-addressible storage\n",
    "- relation\n",
    "- hash\n",
    "- also: associative array, symbol table"
   ]
  },
  {
   "cell_type": "markdown",
   "metadata": {},
   "source": [
    "#### As a Dictionary\n",
    "---------------------------"
   ]
  },
  {
   "cell_type": "code",
   "execution_count": 8,
   "metadata": {},
   "outputs": [
    {
     "data": {
      "text/plain": [
       "'uno'"
      ]
     },
     "execution_count": 8,
     "metadata": {},
     "output_type": "execute_result"
    }
   ],
   "source": [
    "dictionary = {'one': 'uno',\n",
    "              'two': 'dos',\n",
    "              'three': 'tres'}\n",
    "dictionary['one']"
   ]
  },
  {
   "cell_type": "code",
   "execution_count": 3,
   "metadata": {},
   "outputs": [
    {
     "ename": "KeyError",
     "evalue": "'uno'",
     "output_type": "error",
     "traceback": [
      "\u001b[0;31m---------------------------------------------------------------------------\u001b[0m",
      "\u001b[0;31mKeyError\u001b[0m                                  Traceback (most recent call last)",
      "\u001b[0;32m<ipython-input-3-9fb07da0c834>\u001b[0m in \u001b[0;36m<module>\u001b[0;34m()\u001b[0m\n\u001b[0;32m----> 1\u001b[0;31m \u001b[0mdictionary\u001b[0m\u001b[0;34m[\u001b[0m\u001b[0;34m'uno'\u001b[0m\u001b[0;34m]\u001b[0m \u001b[0;31m# Dictionary could only search for keys searching with values is not possible,\u001b[0m\u001b[0;34m\u001b[0m\u001b[0m\n\u001b[0m\u001b[1;32m      2\u001b[0m                   \u001b[0;31m#it gives a keyerros\u001b[0m\u001b[0;34m\u001b[0m\u001b[0;34m\u001b[0m\u001b[0m\n",
      "\u001b[0;31mKeyError\u001b[0m: 'uno'"
     ]
    }
   ],
   "source": [
    "dictionary['uno'] # Dictionary could only search for keys searching with values is not possible, \n",
    "                  #it gives a keyerros"
   ]
  },
  {
   "cell_type": "code",
   "execution_count": 4,
   "metadata": {},
   "outputs": [
    {
     "ename": "KeyError",
     "evalue": "'four'",
     "output_type": "error",
     "traceback": [
      "\u001b[0;31m---------------------------------------------------------------------------\u001b[0m",
      "\u001b[0;31mKeyError\u001b[0m                                  Traceback (most recent call last)",
      "\u001b[0;32m<ipython-input-4-eeb47cf336a4>\u001b[0m in \u001b[0;36m<module>\u001b[0;34m()\u001b[0m\n\u001b[0;32m----> 1\u001b[0;31m \u001b[0mdictionary\u001b[0m\u001b[0;34m[\u001b[0m\u001b[0;34m'four'\u001b[0m\u001b[0;34m]\u001b[0m \u001b[0;31m# This also would give a similar error as above\u001b[0m\u001b[0;34m\u001b[0m\u001b[0m\n\u001b[0m",
      "\u001b[0;31mKeyError\u001b[0m: 'four'"
     ]
    }
   ],
   "source": [
    "dictionary['four'] # This also would give a similar error as above"
   ]
  },
  {
   "cell_type": "code",
   "execution_count": 5,
   "metadata": {},
   "outputs": [
    {
     "data": {
      "text/plain": [
       "{'four': 'cuatro', 'one': 'uno', 'three': 'tres', 'two': 'dos'}"
      ]
     },
     "execution_count": 5,
     "metadata": {},
     "output_type": "execute_result"
    }
   ],
   "source": [
    "dictionary['four'] = 'cuatro' # Adding a term to dictionary\n",
    "dictionary"
   ]
  },
  {
   "cell_type": "code",
   "execution_count": 9,
   "metadata": {},
   "outputs": [
    {
     "data": {
      "text/plain": [
       "{'three': 'tres'}"
      ]
     },
     "execution_count": 9,
     "metadata": {},
     "output_type": "execute_result"
    }
   ],
   "source": [
    "del dictionary['one'] # Deleting from dictionary\n",
    "del dictionary['two']\n",
    "dictionary"
   ]
  },
  {
   "cell_type": "markdown",
   "metadata": {},
   "source": [
    "#### As a map\n",
    "---------------"
   ]
  },
  {
   "cell_type": "code",
   "execution_count": 12,
   "metadata": {},
   "outputs": [
    {
     "data": {
      "text/plain": [
       "{'arnold': ['calculus', 'linear algebra'],\n",
       " 'juan luis': ['real analysis'],\n",
       " 'vinnie': ['calculus', 'diff eq']}"
      ]
     },
     "execution_count": 12,
     "metadata": {},
     "output_type": "execute_result"
    }
   ],
   "source": [
    "course_professors = {'calculus':        'Prof. Kotter',\n",
    "                     'diff eq':         'Prof. Fenny',\n",
    "                     'linear algebra':  'Prof. Kotter',\n",
    "                     'real analysis':   'Prof. Crabtree'}\n",
    "\n",
    "student_courses = {'vinnie':     ['calculus', 'diff eq'],\n",
    "                   'arnold':     ['calculus', 'linear algebra'],\n",
    "                   'juan luis':  ['real analysis']}\n",
    "student_courses"
   ]
  },
  {
   "cell_type": "code",
   "execution_count": 13,
   "metadata": {},
   "outputs": [
    {
     "data": {
      "text/plain": [
       "{'arnold': {'calculus', 'linear algebra'},\n",
       " 'juan luis': {'real analysis'},\n",
       " 'vinnie': {'calculus', 'diff eq'}}"
      ]
     },
     "execution_count": 13,
     "metadata": {},
     "output_type": "execute_result"
    }
   ],
   "source": [
    "student_courses = {'vinnie':     {'calculus', 'diff eq'},\n",
    "                   'arnold':     {'calculus', 'linear algebra'},\n",
    "                   'juan luis':  {'real analysis'}}\n",
    "\n",
    "student_courses\n",
    "\n",
    "#{} is used for set, in a set we cannot have duplicate values"
   ]
  },
  {
   "cell_type": "code",
   "execution_count": 15,
   "metadata": {},
   "outputs": [
    {
     "data": {
      "text/plain": [
       "{'arnold': {'Prof. Kotter'},\n",
       " 'juan luis': {'Prof. Crabtree'},\n",
       " 'vinnie': {'Prof. Fenny', 'Prof. Kotter'}}"
      ]
     },
     "execution_count": 15,
     "metadata": {},
     "output_type": "execute_result"
    }
   ],
   "source": [
    "student_professors = {} # Which student has which professor?, Syntax for empty dictionary the other way is dict()\n",
    "\n",
    "for student in student_courses: # This loops over the keys of the dictionary\n",
    "    for course in student_courses[student]: # This looks over the set of student_courses\n",
    "        if student not in student_professors:\n",
    "            student_professors[student] = set() # Syntax for empty set\n",
    "        student_professors[student].add(course_professors[course])\n",
    "        \n",
    "student_professors"
   ]
  },
  {
   "cell_type": "code",
   "execution_count": null,
   "metadata": {
    "collapsed": true
   },
   "outputs": [],
   "source": [
    " "
   ]
  }
 ],
 "metadata": {
  "kernelspec": {
   "display_name": "Python 3",
   "language": "python",
   "name": "python3"
  },
  "language_info": {
   "codemirror_mode": {
    "name": "ipython",
    "version": 3
   },
   "file_extension": ".py",
   "mimetype": "text/x-python",
   "name": "python",
   "nbconvert_exporter": "python",
   "pygments_lexer": "ipython3",
   "version": "3.6.3"
  }
 },
 "nbformat": 4,
 "nbformat_minor": 2
}
