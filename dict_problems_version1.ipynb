{
 "cells": [
  {
   "cell_type": "markdown",
   "metadata": {},
   "source": [
    "## Problem Statement: Vigenere Cipher"
   ]
  },
  {
   "cell_type": "markdown",
   "metadata": {},
   "source": [
    "##### Implement a Vigenere Cipher"
   ]
  },
  {
   "cell_type": "markdown",
   "metadata": {},
   "source": [
    "##### Plain text:      attactatdawn\n",
    "##### Key:                 python\n",
    "##### Cipher text:      prmhqxprwhka"
   ]
  },
  {
   "cell_type": "code",
   "execution_count": 8,
   "metadata": {},
   "outputs": [],
   "source": [
    "from string import ascii_lowercase\n",
    "from itertools import repeat, cycle, islice\n",
    "\n",
    "CODEBOOK = {x: {y: z for y,z in zip(ascii_lowercase, islice(cycle(ascii_lowercase), i, None))}\n",
    "            for i, x in enumerate(ascii_lowercase)}\n",
    "    \n",
    "def encipher(message, key, codebook=CODEBOOK):\n",
    "    message = ''.join(m for m in message.lower() if m in codebook)\n",
    "    return ''.join(codebook[k][m] for k, m in zip(cycle(key), message))\n",
    "\n",
    "def decipher(message, key, codebook=CODEBOOK):\n",
    "    decodebook = {x: {z:y for y,z in yz.items()} for x, yz in codebook.items()}\n",
    "    return ''.join(decodebook[k][m] for k, m in zip(cycle(key), message))"
   ]
  },
  {
   "cell_type": "code",
   "execution_count": 9,
   "metadata": {},
   "outputs": [
    {
     "data": {
      "text/plain": [
       "'prmhqxprwhka'"
      ]
     },
     "execution_count": 9,
     "metadata": {},
     "output_type": "execute_result"
    }
   ],
   "source": [
    "msg = 'Attack at dawn!'\n",
    "key = 'python'\n",
    "enc_msg = encipher(msg, key)\n",
    "enc_msg"
   ]
  },
  {
   "cell_type": "code",
   "execution_count": 10,
   "metadata": {},
   "outputs": [
    {
     "data": {
      "text/plain": [
       "'attackatdawn'"
      ]
     },
     "execution_count": 10,
     "metadata": {},
     "output_type": "execute_result"
    }
   ],
   "source": [
    "decipher(enc_msg, key)"
   ]
  },
  {
   "cell_type": "markdown",
   "metadata": {},
   "source": [
    "---------------------------------------------------"
   ]
  },
  {
   "cell_type": "markdown",
   "metadata": {},
   "source": [
    "## Problem Statement: Concordance (Word Count)"
   ]
  },
  {
   "cell_type": "markdown",
   "metadata": {},
   "source": [
    "##### Find the ten most commonly used words in a text file"
   ]
  },
  {
   "cell_type": "code",
   "execution_count": 11,
   "metadata": {},
   "outputs": [
    {
     "name": "stdout",
     "output_type": "stream",
     "text": [
      "--2018-02-22 20:36:08--  http://www.gutenberg.org/cache/epub/26/pg26.txt\n",
      "Resolving www.gutenberg.org... 152.19.134.47\n",
      "Connecting to www.gutenberg.org|152.19.134.47|:80... connected.\n",
      "HTTP request sent, awaiting response... 200 OK\n",
      "Length: 200284 (196K) [text/plain]\n",
      "Saving to: 'paradise-lost.txt'\n",
      "\n",
      "paradise-lost.txt   100%[===================>] 195.59K   166KB/s    in 1.2s    \n",
      "\n",
      "2018-02-22 20:36:10 (166 KB/s) - 'paradise-lost.txt' saved [490469]\n",
      "\n"
     ]
    }
   ],
   "source": [
    "! wget -O paradise-lost.txt 'http://www.gutenberg.org/cache/epub/26/pg26.txt'"
   ]
  },
  {
   "cell_type": "code",
   "execution_count": 13,
   "metadata": {},
   "outputs": [
    {
     "name": "stdout",
     "output_type": "stream",
     "text": [
      "﻿The Project Gutenberg EBook of Paradise Lost, by John Milton\r",
      "\r\n",
      "\r",
      "\r\n",
      "This eBook is for the use of anyone anywhere at no cost and with\r",
      "\r\n",
      "almost no restrictions whatsoever.  You may copy it, give it away or\r",
      "\r\n",
      "re-use it under the terms of the Project Gutenberg License included\r",
      "\r\n",
      "with this eBook or online at www.gutenberg.net\r",
      "\r\n",
      "\r",
      "\r\n",
      "\r",
      "\r\n",
      "Title: Paradise Lost\r",
      "\r\n",
      "\r",
      "\r\n"
     ]
    }
   ],
   "source": [
    "! head -n 10 paradise-lost.txt"
   ]
  },
  {
   "cell_type": "code",
   "execution_count": 18,
   "metadata": {
    "collapsed": true
   },
   "outputs": [],
   "source": [
    "from re import sub\n",
    "\n",
    "def concordance(text):\n",
    "    freq = {}\n",
    "    for word in text.split():\n",
    "        word = sub('[^\\w]', '', word.lower())\n",
    "        if word not in freq:\n",
    "            freq[word] = 0\n",
    "        freq[word] += 1\n",
    "    return freq"
   ]
  },
  {
   "cell_type": "code",
   "execution_count": 19,
   "metadata": {},
   "outputs": [
    {
     "data": {
      "text/plain": [
       "[('and', 3483),\n",
       " ('the', 3162),\n",
       " ('to', 2326),\n",
       " ('of', 2186),\n",
       " ('in', 1430),\n",
       " ('with', 1208),\n",
       " ('his', 1181),\n",
       " ('or', 795),\n",
       " ('that', 720),\n",
       " ('all', 712)]"
      ]
     },
     "execution_count": 19,
     "metadata": {},
     "output_type": "execute_result"
    }
   ],
   "source": [
    "with open('paradise-lost.txt') as f:\n",
    "    text = ''.join(f)\n",
    "    \n",
    "freq = concordance(text)\n",
    "sorted(freq.items(), key=lambda kv: kv[1], reverse=True)[:10]"
   ]
  },
  {
   "cell_type": "code",
   "execution_count": null,
   "metadata": {
    "collapsed": true
   },
   "outputs": [],
   "source": []
  }
 ],
 "metadata": {
  "kernelspec": {
   "display_name": "Python 3",
   "language": "python",
   "name": "python3"
  },
  "language_info": {
   "codemirror_mode": {
    "name": "ipython",
    "version": 3
   },
   "file_extension": ".py",
   "mimetype": "text/x-python",
   "name": "python",
   "nbconvert_exporter": "python",
   "pygments_lexer": "ipython3",
   "version": "3.6.3"
  }
 },
 "nbformat": 4,
 "nbformat_minor": 2
}
